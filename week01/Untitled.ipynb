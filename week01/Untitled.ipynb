{
 "cells": [
  {
   "cell_type": "code",
   "execution_count": 15,
   "metadata": {},
   "outputs": [
    {
     "name": "stdout",
     "output_type": "stream",
     "text": [
      "upper half\n"
     ]
    }
   ],
   "source": [
    "import random\n",
    "\n",
    "r=random.random()\n",
    "\n",
    "if r > 0.5:\n",
    "    print(\"upper half\")\n",
    "else:\n",
    "    print(\"lower half\")"
   ]
  },
  {
   "cell_type": "code",
   "execution_count": 1,
   "metadata": {},
   "outputs": [
    {
     "name": "stdout",
     "output_type": "stream",
     "text": [
      "3.141092\n"
     ]
    }
   ],
   "source": [
    "import random\n",
    "\n",
    "sum=0\n",
    "million=1000000\n",
    "test_file=open('03-190697_kadai1-2.result.txt','w')\n",
    "\n",
    "for i in range(million):\n",
    "    r1=random.random()\n",
    "    r2=random.random()\n",
    "    ans=r1**2+r2**2\n",
    "    if ans < 1:\n",
    "        sum+=1\n",
    "\n",
    "print((sum / million)*4)\n",
    "test_file.write(str((sum/million)*4))\n",
    "test_file.flush()\n",
    "test_file.close()"
   ]
  },
  {
   "cell_type": "code",
   "execution_count": 2,
   "metadata": {},
   "outputs": [],
   "source": []
  }
 ],
 "metadata": {
  "kernelspec": {
   "display_name": "Python 3",
   "language": "python",
   "name": "python3"
  },
  "language_info": {
   "codemirror_mode": {
    "name": "ipython",
    "version": 3
   },
   "file_extension": ".py",
   "mimetype": "text/x-python",
   "name": "python",
   "nbconvert_exporter": "python",
   "pygments_lexer": "ipython3",
   "version": "3.7.1"
  }
 },
 "nbformat": 4,
 "nbformat_minor": 2
}
